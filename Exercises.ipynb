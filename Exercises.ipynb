{
 "cells": [
  {
   "cell_type": "markdown",
   "id": "6d03a6c9-2eb4-48eb-84de-0d3316fa3fad",
   "metadata": {},
   "source": [
    "**Exercise 1**"
   ]
  },
  {
   "cell_type": "code",
   "execution_count": 7,
   "id": "af34827c-3ed3-4790-9846-e22e585478da",
   "metadata": {},
   "outputs": [],
   "source": [
    "import numpy as np"
   ]
  },
  {
   "cell_type": "markdown",
   "id": "45f9323c-9bfd-4eaf-a406-7fc8d83f26c4",
   "metadata": {},
   "source": [
    "1) Calculate the density of the gas, at standard conditions, whose composition is listed in table 1.1."
   ]
  },
  {
   "cell_type": "code",
   "execution_count": 11,
   "id": "52611f12-4611-4526-b28b-8cb1f6c4e1fc",
   "metadata": {},
   "outputs": [],
   "source": [
    "#First, going to save the values of table 1.1 as a dictionary with a dictionary: keys as molecule name, and values as molecular weight\n",
    "table_1_1_molecular_weights = {'Methane' : 16.04, 'Ethane' : 30.07, 'Propane' : 44.10, 'Isobutane' : 58.12, \n",
    "                               'Normal Butane' : 58.12, 'Isopentane' : 72.15, 'Normal Pentane' : 72.15, 'Normal Hexane' : 86.18,\n",
    "                              'Normal Heptane' : 100.20, 'Normal Octane' : 114.23, 'Normal Nonane' : 128.26, 'Normal Decane' : 142.29,\n",
    "                              'Carbon Dioxide' : 44.01, 'Hydrogen Sulfide' : 34.08, 'Nitrogen' : 28.01}"
   ]
  },
  {
   "cell_type": "code",
   "execution_count": 4,
   "id": "794fead9-f752-4291-bc16-1a5d8ba9ea03",
   "metadata": {},
   "outputs": [],
   "source": [
    "#Now, I am going to store the typical concentration of well gas from table 1.1 to a dictionary\n",
    "table_1_1_well_gas_composition = {'Methane' : 0.847, 'Ethane' : 0.0586, 'Propane' : 0.0220, 'Isobutane' : 0.0035, \n",
    "                               'Normal Butane' : 0.0058, 'Isopentane' : 0.0027, 'Normal Pentane' : 0.0025, 'Normal Hexane' : 0.0028,\n",
    "                              'Normal Heptane' : 0.0028, 'Normal Octane' : 0.0015, 'Normal Nonane' : 0.0018, 'Normal Decane' : 0.0015,\n",
    "                              'Carbon Dioxide' : 0.0130, 'Hydrogen Sulfide' : 0.0000, 'Nitrogen' : 0.0345}"
   ]
  },
  {
   "cell_type": "code",
   "execution_count": 66,
   "id": "dd274b97-e31c-46d9-ad0c-103a9f571b4f",
   "metadata": {},
   "outputs": [
    {
     "name": "stdout",
     "output_type": "stream",
     "text": [
      "The density of typical well gas, at standard conditions, is: 19.9099\n"
     ]
    }
   ],
   "source": [
    "#Create numpy arrays out of the dictionary values (thankfully they are in the smae order or I'd have to figure something else out)\n",
    "molecular_weight_array = np.array(list(table_1_1_molecular_weights.values()), dtype = ((np.float64, (4,))))\n",
    "composition_array = np.array(list(table_1_1_well_gas_composition.values()), dtype = ((np.float64, (4,))))\n",
    "\n",
    "#calculate molecular weight with vector multiplication and summing up the result\n",
    "molecular_weight_well_gas = np.sum(np.multiply(composition_array[:,1], molecular_weight_array[:,1]))\n",
    "\n",
    "print(f'The density of typical well gas, at standard conditions, is: {round(molecular_weight_well_gas, 4)}')"
   ]
  },
  {
   "cell_type": "markdown",
   "id": "98ff9e81-a981-488a-b84c-10a0d59a26f5",
   "metadata": {},
   "source": [
    "HOT DAMN, that took forever, but looks like I got it right. And, I got a little numpy worked in there.\n",
    "On to the next one!"
   ]
  },
  {
   "cell_type": "code",
   "execution_count": null,
   "id": "3433e7c7-84af-4678-bf21-b0dd86024e48",
   "metadata": {},
   "outputs": [],
   "source": []
  }
 ],
 "metadata": {
  "kernelspec": {
   "display_name": "Python 3 (ipykernel)",
   "language": "python",
   "name": "python3"
  },
  "language_info": {
   "codemirror_mode": {
    "name": "ipython",
    "version": 3
   },
   "file_extension": ".py",
   "mimetype": "text/x-python",
   "name": "python",
   "nbconvert_exporter": "python",
   "pygments_lexer": "ipython3",
   "version": "3.9.13"
  }
 },
 "nbformat": 4,
 "nbformat_minor": 5
}
