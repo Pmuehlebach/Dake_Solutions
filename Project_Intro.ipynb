{
 "cells": [
  {
   "cell_type": "markdown",
   "id": "77806329-2f89-4942-a7f1-e5118702740f",
   "metadata": {},
   "source": [
    "This is a for fun project where I set out to write code to describe equations and solutions from L.P. Dake's **Fundamentals of Reservoir Engineering.**"
   ]
  },
  {
   "cell_type": "markdown",
   "id": "fef8269b-3586-458e-b4a4-b1e2d5a5261c",
   "metadata": {},
   "source": [
    "I have been both working as a reservoir engineer and writing in python only for a few months. So, this is an exercise to sharpen both my computer science knowledge and reservoir engineering in one shot."
   ]
  },
  {
   "cell_type": "markdown",
   "id": "6429d312-3867-4e61-a859-609eafbea329",
   "metadata": {},
   "source": [
    "I have no doubt that the code will be laughably inneficient, but I hope to improve over time."
   ]
  },
  {
   "cell_type": "markdown",
   "id": "20161adc-2a74-4ee3-a8e8-a9cb5d55e878",
   "metadata": {},
   "source": [
    "I am also open sourcing this project to get some practice with github, and so the world may laugh at my poor code."
   ]
  },
  {
   "cell_type": "markdown",
   "id": "9574f863-0795-4d8c-b27b-47ae61debadf",
   "metadata": {},
   "source": [
    "If even one person reads this project one day, I will consider it a wild success."
   ]
  },
  {
   "cell_type": "markdown",
   "id": "e90d8e9c-9a0e-4b1a-9067-4b9f5ca8d5c7",
   "metadata": {},
   "source": [
    "To that lone reader, please enjoy.\n",
    "-Peter"
   ]
  },
  {
   "cell_type": "code",
   "execution_count": null,
   "id": "3015dede-a4ae-4971-b872-fe492a75ac2a",
   "metadata": {},
   "outputs": [],
   "source": []
  }
 ],
 "metadata": {
  "kernelspec": {
   "display_name": "Python 3 (ipykernel)",
   "language": "python",
   "name": "python3"
  },
  "language_info": {
   "codemirror_mode": {
    "name": "ipython",
    "version": 3
   },
   "file_extension": ".py",
   "mimetype": "text/x-python",
   "name": "python",
   "nbconvert_exporter": "python",
   "pygments_lexer": "ipython3",
   "version": "3.9.13"
  }
 },
 "nbformat": 4,
 "nbformat_minor": 5
}
